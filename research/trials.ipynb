{
 "cells": [
  {
   "cell_type": "code",
   "execution_count": 2,
   "id": "6258cb12",
   "metadata": {},
   "outputs": [],
   "source": [
    "import gdown"
   ]
  },
  {
   "cell_type": "code",
   "execution_count": null,
   "id": "e781117d",
   "metadata": {},
   "outputs": [],
   "source": [
    "url =\" https://drive.google.com/file/d/1u0lH56EtceVPGvCbCWsx91guYxAIX6vR/view?usp=sharing\""
   ]
  },
  {
   "cell_type": "code",
   "execution_count": 5,
   "id": "d1660186",
   "metadata": {},
   "outputs": [],
   "source": [
    "file_id = url.split(\"/\")[-2]"
   ]
  },
  {
   "cell_type": "code",
   "execution_count": 6,
   "id": "ee85b82b",
   "metadata": {},
   "outputs": [
    {
     "data": {
      "text/plain": [
       "'1u0lH56EtceVPGvCbCWsx91guYxAIX6vR'"
      ]
     },
     "execution_count": 6,
     "metadata": {},
     "output_type": "execute_result"
    }
   ],
   "source": [
    "file_id"
   ]
  },
  {
   "cell_type": "code",
   "execution_count": 7,
   "id": "46c907e8",
   "metadata": {},
   "outputs": [
    {
     "name": "stderr",
     "output_type": "stream",
     "text": [
      "Downloading...\n",
      "From (original): https://drive.google.com/uc?/export=download&id=1u0lH56EtceVPGvCbCWsx91guYxAIX6vR\n",
      "From (redirected): https://drive.google.com/uc?%2Fexport=download&id=1u0lH56EtceVPGvCbCWsx91guYxAIX6vR&confirm=t&uuid=ad3e3f3b-a88c-432b-ac33-44d8af5bad19\n",
      "To: c:\\Users\\arnav\\Documents\\Face-Emotion-Recognizer\\research\\FaceEmotions.zip\n",
      "100%|██████████| 126M/126M [05:09<00:00, 409kB/s]  \n"
     ]
    },
    {
     "data": {
      "text/plain": [
       "'FaceEmotions.zip'"
      ]
     },
     "execution_count": 7,
     "metadata": {},
     "output_type": "execute_result"
    }
   ],
   "source": [
    "prefix = 'https://drive.google.com/uc?/export=download&id='\n",
    "gdown.download(prefix+file_id, \"FaceEmotions.zip\")"
   ]
  },
  {
   "cell_type": "code",
   "execution_count": null,
   "id": "218b51ba",
   "metadata": {},
   "outputs": [],
   "source": []
  }
 ],
 "metadata": {
  "kernelspec": {
   "display_name": "py310",
   "language": "python",
   "name": "python3"
  },
  "language_info": {
   "codemirror_mode": {
    "name": "ipython",
    "version": 3
   },
   "file_extension": ".py",
   "mimetype": "text/x-python",
   "name": "python",
   "nbconvert_exporter": "python",
   "pygments_lexer": "ipython3",
   "version": "3.10.16"
  }
 },
 "nbformat": 4,
 "nbformat_minor": 5
}
